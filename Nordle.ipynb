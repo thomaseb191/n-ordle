{
 "cells": [
  {
   "cell_type": "code",
   "execution_count": 1,
   "id": "275f5af0-728d-4168-857a-6dc48d9aa2de",
   "metadata": {},
   "outputs": [],
   "source": [
    "#Imports\n",
    "from scipy.stats import qmc\n",
    "import math"
   ]
  },
  {
   "cell_type": "code",
   "execution_count": 2,
   "id": "241c68f7-3ec1-48e3-a400-f522450528fb",
   "metadata": {},
   "outputs": [],
   "source": [
    "#Seed the generator so that results are consistent\n",
    "sobolGen = qmc.Sobol(2, scramble=True, seed=0)\n",
    "haltonGen = qmc.Halton(2, scramble=True, seed=0)"
   ]
  },
  {
   "cell_type": "code",
   "execution_count": 3,
   "id": "23a6809e-3b55-4a96-b219-821aa7829770",
   "metadata": {},
   "outputs": [],
   "source": [
    "#Set up\n",
    "pairsToGen = 2048\n",
    "\n",
    "wordle_small = open(\"data/wordle_small.txt\")\n",
    "answerList = [word.strip() for word in wordle_small]\n",
    "wordle_small.close()\n",
    "\n",
    "wordle_large = open(\"data/wordle_small.txt\")\n",
    "possibleList = [word.strip() for word in wordle_large]\n",
    "wordle_large.close()\n",
    "\n",
    "l_bounds = [0,0]\n",
    "u_bounds = [len(answerList) for _ in range(0,2)]"
   ]
  },
  {
   "cell_type": "code",
   "execution_count": 4,
   "id": "043850ab-453b-4bb5-9462-3aa46ec918ad",
   "metadata": {},
   "outputs": [],
   "source": [
    "sobolSample = sobolGen.random(pairsToGen)\n",
    "sobolSampleScaled = qmc.scale(sobolSample, l_bounds, u_bounds)\n",
    "sobolWords = [(answerList[math.floor(x)], answerList[math.floor(y)])for x,y in sobolSampleScaled]"
   ]
  },
  {
   "cell_type": "code",
   "execution_count": 5,
   "id": "bf325be6-01a5-4e4b-a593-be166cc01474",
   "metadata": {},
   "outputs": [],
   "source": [
    "haltonSample = haltonGen.random(n=pairsToGen)\n",
    "haltonSampleScaled = qmc.scale(haltonSample, l_bounds, u_bounds)\n",
    "haltonWords = [(answerList[math.floor(x)], answerList[math.floor(y)])for x,y in haltonSampleScaled]"
   ]
  },
  {
   "cell_type": "code",
   "execution_count": null,
   "id": "eee12e1c-f3b5-4d70-a87d-68d83916ba26",
   "metadata": {},
   "outputs": [],
   "source": []
  }
 ],
 "metadata": {
  "kernelspec": {
   "display_name": "Python 3 (ipykernel)",
   "language": "python",
   "name": "python3"
  },
  "language_info": {
   "codemirror_mode": {
    "name": "ipython",
    "version": 3
   },
   "file_extension": ".py",
   "mimetype": "text/x-python",
   "name": "python",
   "nbconvert_exporter": "python",
   "pygments_lexer": "ipython3",
   "version": "3.10.4"
  },
  "toc-autonumbering": false,
  "toc-showcode": true,
  "toc-showmarkdowntxt": true
 },
 "nbformat": 4,
 "nbformat_minor": 5
}
