{
 "cells": [
  {
   "cell_type": "code",
   "execution_count": 1,
   "id": "275f5af0-728d-4168-857a-6dc48d9aa2de",
   "metadata": {},
   "outputs": [],
   "source": [
    "#Imports\n",
    "from scipy.stats import qmc\n",
    "import math\n",
    "import numpy\n",
    "import wordle, worker\n",
    "from multiprocessing import Pool\n",
    "import os\n",
    "import json"
   ]
  },
  {
   "cell_type": "code",
   "execution_count": 2,
   "id": "241c68f7-3ec1-48e3-a400-f522450528fb",
   "metadata": {},
   "outputs": [],
   "source": [
    "#Seed the generator so that results are consistent\n",
    "sobolGen = qmc.Sobol(2, scramble=True, seed=0)\n",
    "haltonGen = qmc.Halton(2, scramble=True, seed=0)\n",
    "numpy.random.seed(0)"
   ]
  },
  {
   "cell_type": "code",
   "execution_count": 3,
   "id": "23a6809e-3b55-4a96-b219-821aa7829770",
   "metadata": {},
   "outputs": [],
   "source": [
    "#Set up\n",
    "pairsToGen = 2048\n",
    "\n",
    "wordle_small = open(\"data/wordle_small.txt\")\n",
    "answerList = [word.strip() for word in wordle_small]\n",
    "wordle_small.close()\n",
    "\n",
    "wordle_large = open(\"data/wordle_large.txt\")\n",
    "possibleList = [word.strip() for word in wordle_large] + answerList\n",
    "wordle_large.close()\n",
    "\n",
    "l_bounds = [0,0]\n",
    "u_bounds = [len(answerList) for _ in range(0,2)]"
   ]
  },
  {
   "cell_type": "code",
   "execution_count": 4,
   "id": "043850ab-453b-4bb5-9462-3aa46ec918ad",
   "metadata": {},
   "outputs": [],
   "source": [
    "sobolSample = sobolGen.random(pairsToGen)\n",
    "sobolSampleScaled = qmc.scale(sobolSample, l_bounds, u_bounds)\n",
    "sobolWords = [(answerList[math.floor(x)], answerList[math.floor(y)])for x,y in sobolSampleScaled]"
   ]
  },
  {
   "cell_type": "code",
   "execution_count": 5,
   "id": "bf325be6-01a5-4e4b-a593-be166cc01474",
   "metadata": {},
   "outputs": [],
   "source": [
    "haltonSample = haltonGen.random(n=pairsToGen)\n",
    "haltonSampleScaled = qmc.scale(haltonSample, l_bounds, u_bounds)\n",
    "haltonWords = [(answerList[math.floor(x)], answerList[math.floor(y)])for x,y in haltonSampleScaled]"
   ]
  },
  {
   "cell_type": "code",
   "execution_count": 6,
   "id": "5e02f6c3-f5b9-4386-9b04-3904735638aa",
   "metadata": {},
   "outputs": [],
   "source": [
    "randomSample = numpy.random.randint(0, len(answerList), size=(pairsToGen,2))\n",
    "randomWords = [(answerList[x], answerList[y]) for x,y in randomSample]"
   ]
  },
  {
   "cell_type": "code",
   "execution_count": 7,
   "id": "eee12e1c-f3b5-4d70-a87d-68d83916ba26",
   "metadata": {},
   "outputs": [
    {
     "name": "stdout",
     "output_type": "stream",
     "text": [
      "Unique sobol words: 2085\n"
     ]
    }
   ],
   "source": [
    "sobolCount = {}\n",
    "for tup in sobolWords:\n",
    "    for word in tup:\n",
    "        if word in sobolCount.keys():\n",
    "            sobolCount[word] += 1\n",
    "        else:\n",
    "            sobolCount[word] = 1\n",
    "print(\"Unique sobol words: \" + str(len(sobolCount)))"
   ]
  },
  {
   "cell_type": "code",
   "execution_count": 8,
   "id": "2b001a89-1b05-4cf5-b8c6-83e0140f8b21",
   "metadata": {},
   "outputs": [
    {
     "name": "stdout",
     "output_type": "stream",
     "text": [
      "Unique halton words: 2281\n"
     ]
    }
   ],
   "source": [
    "haltonCount = {}\n",
    "for tup in haltonWords:\n",
    "    for word in tup:\n",
    "        if word in haltonCount.keys():\n",
    "            haltonCount[word] += 1\n",
    "        else:\n",
    "            haltonCount[word] = 1\n",
    "print(\"Unique halton words: \" + str(len(haltonCount)))"
   ]
  },
  {
   "cell_type": "code",
   "execution_count": 9,
   "id": "a27277cd-cccb-4a2b-b5ba-0873f47d212f",
   "metadata": {},
   "outputs": [
    {
     "name": "stdout",
     "output_type": "stream",
     "text": [
      "Unique random words: 2281\n"
     ]
    }
   ],
   "source": [
    "randomCount = {}\n",
    "for tup in randomWords:\n",
    "    for word in tup:\n",
    "        if word in randomCount.keys():\n",
    "            randomCount[word] += 1\n",
    "        else:\n",
    "            randomCount[word] = 1\n",
    "print(\"Unique random words: \" + str(len(haltonCount)))"
   ]
  },
  {
   "cell_type": "code",
   "execution_count": 10,
   "id": "0ddb17f5-bd20-4e83-954e-8cb331fc47db",
   "metadata": {},
   "outputs": [
    {
     "data": {
      "text/plain": [
       "19"
      ]
     },
     "execution_count": 10,
     "metadata": {},
     "output_type": "execute_result"
    }
   ],
   "source": [
    "response = wordle.score(\"chess\", \"swiss\")\n",
    "remaining = wordle.filter_words(answerList, \"swiss\", response)\n",
    "len(remaining)"
   ]
  },
  {
   "cell_type": "code",
   "execution_count": null,
   "id": "83145afa-608f-41bd-89a9-482f4f3c2d17",
   "metadata": {},
   "outputs": [
    {
     "name": "stdout",
     "output_type": "stream",
     "text": [
      "Starting processing...\n"
     ]
    }
   ],
   "source": [
    "evsMap = {}\n",
    "with Pool(processes=15) as p:\n",
    "    print(\"Starting processing...\")\n",
    "    evs = p.starmap(worker.evCalc, [(i, haltonWords, answerList) for i in possibleList])\n",
    "    print(\"Processing done!\")\n",
    "    for i in range(len(evs)):\n",
    "        evsMap[possibleList[i]] = evs[i]\n",
    "print(evsMap)"
   ]
  },
  {
   "cell_type": "code",
   "execution_count": null,
   "id": "70933961-97cb-4f10-9910-aa1c9bcf59cc",
   "metadata": {},
   "outputs": [],
   "source": [
    "vals = list(evsMap.values())\n",
    "vals.sort()\n",
    "temp = vals[0:10]\n",
    "res = [key for key in evsMap if evsMap[key] in temp]\n",
    "res"
   ]
  },
  {
   "cell_type": "code",
   "execution_count": null,
   "id": "72de603f-4cfd-4d87-a950-697c927e0a37",
   "metadata": {},
   "outputs": [],
   "source": [
    "with open(\"wordle_all_halton_analysis.json\", \"w\") as outfile:\n",
    "    json.dump(evsMap, outfile)"
   ]
  },
  {
   "cell_type": "code",
   "execution_count": null,
   "id": "b6ba503b-17f6-4dee-879f-fcfa0eba565c",
   "metadata": {},
   "outputs": [],
   "source": [
    "evsMapSobol = {}\n",
    "with Pool(processes=15) as p:\n",
    "    print(\"Starting processing...\")\n",
    "    evs = p.starmap(worker.evCalc, [(i, sobolWords, answerList) for i in possibleList])\n",
    "    print(\"Processing done!\")\n",
    "    for i in range(len(evs)):\n",
    "        evsMapSobol[possibleList[i]] = evs[i]\n",
    "print(evsMapSobol)"
   ]
  },
  {
   "cell_type": "code",
   "execution_count": null,
   "id": "8a220ade-36f8-430d-b9a2-ba3f052b46da",
   "metadata": {},
   "outputs": [],
   "source": [
    "vals = list(evsMapSobol.values())\n",
    "vals.sort()\n",
    "temp = vals[0:10]\n",
    "res = [key for key in evsMapSobol if evsMapSobol[key] in temp]\n",
    "res"
   ]
  },
  {
   "cell_type": "code",
   "execution_count": null,
   "id": "cb1763b8-7557-43ba-8f7a-7aa9c68338f6",
   "metadata": {},
   "outputs": [],
   "source": [
    "with open(\"wordle_all_sobol_analysis.json\", \"w\") as outfile:\n",
    "    json.dump(evsMapSobol, outfile)"
   ]
  },
  {
   "cell_type": "code",
   "execution_count": null,
   "id": "9e2f7316-4341-431a-955d-b643049aa3b9",
   "metadata": {},
   "outputs": [],
   "source": [
    "evsMapRandom = {}\n",
    "with Pool(processes=15) as p:\n",
    "    print(\"Starting processing...\")\n",
    "    evs = p.starmap(worker.evCalc, [(i, randomWords, answerList) for i in possibleList])\n",
    "    print(\"Processing done!\")\n",
    "    for i in range(len(evs)):\n",
    "        evsMapRandom[possibleList[i]] = evs[i]\n",
    "print(evsMapRandom)"
   ]
  },
  {
   "cell_type": "code",
   "execution_count": null,
   "id": "ab361b72-9a78-4560-881f-870831af38ea",
   "metadata": {},
   "outputs": [],
   "source": [
    "vals = list(evsMapRandom.values())\n",
    "vals.sort()\n",
    "temp = vals[0:10]\n",
    "res = [key for key in evsMapRandom if evsMapRandom[key] in temp]\n",
    "res"
   ]
  },
  {
   "cell_type": "code",
   "execution_count": null,
   "id": "f55c7c25-d92c-4320-b293-623833127fee",
   "metadata": {},
   "outputs": [],
   "source": [
    "with open(\"wordle_all_random_analysis.json\", \"w\") as outfile:\n",
    "    json.dump(evsMapRandom, outfile)"
   ]
  }
 ],
 "metadata": {
  "kernelspec": {
   "display_name": "Python 3 (ipykernel)",
   "language": "python",
   "name": "python3"
  },
  "language_info": {
   "codemirror_mode": {
    "name": "ipython",
    "version": 3
   },
   "file_extension": ".py",
   "mimetype": "text/x-python",
   "name": "python",
   "nbconvert_exporter": "python",
   "pygments_lexer": "ipython3",
   "version": "3.10.4"
  },
  "toc-autonumbering": false,
  "toc-showcode": true,
  "toc-showmarkdowntxt": true
 },
 "nbformat": 4,
 "nbformat_minor": 5
}
